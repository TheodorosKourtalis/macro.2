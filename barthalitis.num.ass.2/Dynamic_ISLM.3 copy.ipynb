%% Dynamic IS-LM Model Exercises
% 
% This live script analyzes a closed economy with the following features:
%
% - **Total Demand:** (D_t = C_t + I_t + G_t)
% - **Consumption:** (C_t = C_bar + c*(Y_{t-1} - T_{t-1}))
% - **Investment:** (I_t = I_bar + alpha*Y_{t-1} - b*i_{t-1})
%
% ### Base parameters:
%
% - (C_bar = 0.6, I_bar = 0.2)
% - (c = 0.5, alpha = 0.1, b = 0.1)
% - Fiscal: (G = T = 1.7)
% - Monetary: (i = 0.04)
%
% The script is structured as follows:
%
% 1. Mathematical Derivation
% 2. Exercise 1: Compute and display the base steady state.
% 3. Exercise 2: Simulate the dynamic transition when Y₋₁ = 0.9×Y* for various c-values.
% 4. Exercise 3: Analyze three policy shocks (government spending, taxes, and nominal interest rate)
%    including the dynamics of employment (L = 0.7*Y).
%
% Let's begin with the derivation.

%% Mathematical Derivation
% In our model, total demand is:
%
%     D = C + I + G
%
% where the behavioral equations are:
%
%     C = C_bar + c*(Y - T)
%     I = I_bar + alpha*Y - b*i
%
% In steady state (Y_t = Y_{t-1} = Y), we have:
%
%     Y = C_bar + c*(Y - T) + I_bar + alpha*Y - b*i + G
%
% Collecting the Y terms:
%
%     Y*(1 - c - alpha) = C_bar + I_bar + G - c*T - b*i
%
% Thus, the steady state output is:
%
%     Y* = (C_bar + I_bar + G - c*T - b*i) / (1 - c - alpha)
%
% For c = 0.5:
%
%   - (C_bar + I_bar + G = 0.6 + 0.2 + 1.7 = 2.5)
%   - (c*T + b*i = 0.5*1.7 + 0.1*0.04 = 0.85 + 0.004 = 0.854)
%   - (1 - c - alpha = 1 - 0.5 - 0.1 = 0.4)
%
% So, 
%
%     Y* ≈ (2.5 – 0.854)/0.4 ≈ 4.115.
%
% The dynamic transition is computed by letting the economy start at Y₋₁ = 0.9×Y* and updating:
%
%     Y_t = C_bar + c*(Y_{t-1} - T) + I_bar + alpha*Y_{t-1} - b*i + G
%
% Employment is given by:
%
%     L = 0.7*Y.
%
% Next, we simulate these exercises.

%% Exercise 1: Base Steady State (for c = 0.5)
% Define base parameters
C_bar = 0.6;
I_bar = 0.2;
c     = 0.5;
alpha = 0.1;
b     = 0.1;
G     = 1.7;
T     = 1.7;
i     = 0.04;

% Compute aggregate demand component and beta
D = C_bar + I_bar + G - c*T - b*i;
beta = c + alpha;

% Steady state output Y_ss and components
Y_ss = D / (1 - beta);
C_ss = C_bar + c*(Y_ss - T);
I_ss = I_bar + alpha*Y_ss - b*i;

fprintf('Exercise 1: Base Steady State (c = %.2f)\n', c);
fprintf('Y_ss = %.4f\n', Y_ss);
fprintf('C_ss = %.4f\n', C_ss);
fprintf('I_ss = %.4f\n', I_ss);

%% Exercise 2: Dynamic Transition with Y₋₁ = 0.9 × Y_ss for Various c Values
% Define simulation parameters
periods = 20;
t_axis = 0:periods;

c_values = [0.4, 0.5, 0.6];

figure('Name','Exercise 2: Dynamic Transition','NumberTitle','off');
for idx = 1:length(c_values)
    c_val = c_values(idx);
    % Update parameter c, keep other parameters the same
    D_val = C_bar + I_bar + G - c_val*T - b*i;
    beta_val = c_val + alpha;
    Y_ss_val = D_val / (1 - beta_val);
    
    % Set initial condition: 0.9 × steady state for this c-value
    Y0 = 0.9 * Y_ss_val;
    
    % Preallocate arrays for Y, C, and I
    Y_dyn = zeros(periods+1,1);
    C_dyn = zeros(periods+1,1);
    I_dyn = zeros(periods+1,1);
    
    Y_prev = Y0;
    for t = 1:(periods+1)
        C_dyn(t) = C_bar + c_val*(Y_prev - T);
        I_dyn(t) = I_bar + alpha*Y_prev - b*i;
        Y_dyn(t) = C_dyn(t) + I_dyn(t) + G;
        Y_prev = Y_dyn(t);
    end
    
    % Plot output path for each c-value (overlay)
    subplot(3,1,idx);
    plot(t_axis, Y_dyn, '-o','LineWidth',1.5);
    title(sprintf('Output (Y) Dynamic Transition for c = %.1f', c_val));
    xlabel('Periods'); ylabel('Y');
    grid on;
end

%% Exercise 3: Policy Change Simulation (Base: c = 0.5)
% Define policy scenarios
policyNames = {'Gov Spending +50%', 'Taxes +30%', 'Interest Rate +100bps'};
% Adjusted policy parameters for each scenario
G_policy = [1.7*1.5, 1.7, 1.7];
T_policy = [1.7, 1.7*1.3, 1.7];
i_policy = [0.04, 0.04, 0.04+0.01];

for idx = 1:length(policyNames)
    % Use base c = 0.5
    c_val = 0.5;
    
    % Update parameters according to policy shock
    G_new = G_policy(idx);
    T_new = T_policy(idx);
    i_new = i_policy(idx);
    
    % Compute new steady state output
    D_new = C_bar + I_bar + G_new - c_val*T_new - b*i_new;
    Y_ss_new = D_new / (1 - (c_val+alpha));
    
    % Dynamic transition starts at the base steady state (Y_ss from Exercise 1)
    Y_init = Y_ss;
    periods_policy = 20;
    t_axis_policy = 0:periods_policy;
    
    Y_dyn = zeros(periods_policy+1,1);
    C_dyn = zeros(periods_policy+1,1);
    I_dyn = zeros(periods_policy+1,1);
    Y_prev = Y_init;
    for t = 1:(periods_policy+1)
        C_dyn(t) = C_bar + c_val*(Y_prev - T_new);
        I_dyn(t) = I_bar + alpha*Y_prev - b*i_new;
        Y_dyn(t) = C_dyn(t) + I_dyn(t) + G_new;
        Y_prev = Y_dyn(t);
    end
    L_dyn = 0.7 * Y_dyn; % Employment dynamics: L = 0.7*Y
    
    % Plot the policy change outcomes in a new figure
    figure('Name',sprintf('Exercise 3: Policy Change - %s', policyNames{idx}), ...
           'NumberTitle','off');
    
    % Subplot: Output
    subplot(2,2,1);
    plot(t_axis_policy, Y_dyn, '-o','LineWidth',1.5);
    hold on;
    yline(Y_ss, '--k','Old SS');
    yline(Y_ss_new, '--r','New SS');
    hold off;
    title('Output (Y)'); xlabel('Periods'); ylabel('Y'); grid on;
    
    % Subplot: Consumption
    subplot(2,2,2);
    plot(t_axis_policy, C_dyn, '-o','LineWidth',1.5);
    title('Consumption (C)'); xlabel('Periods'); ylabel('C'); grid on;
    
    % Subplot: Investment
    subplot(2,2,3);
    plot(t_axis_policy, I_dyn, '-o','LineWidth',1.5);
    title('Investment (I)'); xlabel('Periods'); ylabel('I'); grid on;
    
    % Subplot: Employment
    subplot(2,2,4);
    plot(t_axis_policy, L_dyn, '-o','LineWidth',1.5);
    title('Employment (L)'); xlabel('Periods'); ylabel('L'); grid on;
    
    sgtitle(['Exercise 3: Policy Change - ', policyNames{idx}]);
end